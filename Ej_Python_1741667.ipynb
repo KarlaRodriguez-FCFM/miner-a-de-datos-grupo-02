{
 "cells": [
  {
   "cell_type": "markdown",
   "metadata": {},
   "source": [
    "Ejercicios de Pytonh\n",
    "Victor Antonio Quiroz Garcia   Matricula:1741667"
   ]
  },
  {
   "cell_type": "markdown",
   "metadata": {},
   "source": [
    "Ejercicio 1:\n",
    "\n",
    "Realiza una variable con tu matricula y realiza una secuencia de imprimir con tu nombre y tu matricula concatenados."
   ]
  },
  {
   "cell_type": "code",
   "execution_count": 1,
   "metadata": {},
   "outputs": [
    {
     "name": "stdout",
     "output_type": "stream",
     "text": [
      "ingresa tu matricula: 1741667\n",
      "ingresa tu nombre: victor\n",
      "victor1741667\n"
     ]
    }
   ],
   "source": [
    "#ejercicio 1\n",
    "matricula=input(\"ingresa tu matricula: \")\n",
    "nombre=input(\"ingresa tu nombre: \")\n",
    "print (nombre + matricula)"
   ]
  },
  {
   "cell_type": "markdown",
   "metadata": {},
   "source": [
    "Ejercicio 2:\n",
    "\n",
    "Pidiendo el input del usuario pide dos números y crea una pequeña calculadora con los operadores básicos de suma, resta, multiplicación, división, y exponente"
   ]
  },
  {
   "cell_type": "code",
   "execution_count": 4,
   "metadata": {},
   "outputs": [
    {
     "name": "stdout",
     "output_type": "stream",
     "text": [
      "ingresa un numero: 1\n",
      "ingresa un numero: 2\n",
      "la suma de los numeros es:  3\n",
      "la resta de los numero es:  -1\n",
      "la multiplicacion de los numero:  2\n",
      "la division los numero:  0.5\n",
      "la elevacion de los numero es:  1\n"
     ]
    }
   ],
   "source": [
    "#ejercicio 2\n",
    "numero1=int(input(\"ingresa un numero: \"))\n",
    "numero2=int(input(\"ingresa un numero: \"))\n",
    "s=numero1 + numero2\n",
    "r=numero1 - numero2\n",
    "m=numero1 * numero2\n",
    "d=numero1/numero2\n",
    "e=numero1**numero2\n",
    "print(\"la suma de los numeros es: \",s)\n",
    "print(\"la resta de los numero es: \", r)\n",
    "print(\"la multiplicacion de los numero: \",m)\n",
    "print(\"la division los numero: \", d)\n",
    "print(\"la elevacion de los numero es: \", e)"
   ]
  },
  {
   "cell_type": "markdown",
   "metadata": {},
   "source": [
    "Ejercicio 3:\n",
    "\n",
    "Con loop while o for, realiza una lista de 10 numeros multiplos de 3, y después realiza una función de loop que sume todos los números dentro del arreglo."
   ]
  },
  {
   "cell_type": "code",
   "execution_count": 5,
   "metadata": {},
   "outputs": [
    {
     "name": "stdout",
     "output_type": "stream",
     "text": [
      "3\n",
      "6\n",
      "9\n",
      "12\n",
      "15\n",
      "18\n",
      "21\n",
      "24\n",
      "27\n",
      "30\n",
      "la suma de los datos es:  165\n"
     ]
    }
   ],
   "source": [
    "#ejercicio 3\n",
    "suma=0\n",
    "a=0\n",
    "for i in range(1,11):\n",
    "    a=i*3\n",
    "    print(a)\n",
    "    suma=suma+a\n",
    "print(\"la suma de los datos es: \",suma)"
   ]
  },
  {
   "cell_type": "markdown",
   "metadata": {},
   "source": [
    "Ejercicio 4\n",
    "\n",
    "Con una función de if else, revisar si un número es par o es impa"
   ]
  },
  {
   "cell_type": "code",
   "execution_count": 6,
   "metadata": {},
   "outputs": [
    {
     "name": "stdout",
     "output_type": "stream",
     "text": [
      "ingresa un numero7\n",
      "el numero 7 es un numero impar\n"
     ]
    }
   ],
   "source": [
    "#ejercicio 4 (parte 1)\n",
    "numero3=int(input(\"ingresa un numero\"))\n",
    "if numero3 % 2 ==0:\n",
    "    print (\"el numero\", numero3, \"es un numero par\")\n",
    "else:\n",
    "    print (\"el numero\", numero3, \"es un numero impar\")"
   ]
  },
  {
   "cell_type": "markdown",
   "metadata": {},
   "source": [
    "Ejercicio 4\n",
    "\n",
    "Con una función de if else, revisar si un número es primo o no."
   ]
  },
  {
   "cell_type": "code",
   "execution_count": 7,
   "metadata": {},
   "outputs": [
    {
     "name": "stdout",
     "output_type": "stream",
     "text": [
      "ingresa un numero:9\n",
      "el numero no es primo\n"
     ]
    }
   ],
   "source": [
    "#ejercicio 4 (parte 2)\n",
    "r=True\n",
    "numero4=int(input(\"ingresa un numero:\"))\n",
    "d=2\n",
    "while d<numero4 and r:\n",
    "    if numero4 % d==0: \n",
    "        r=False\n",
    "    d=d+1\n",
    "if (r):\n",
    "    print(\"el numero es primo\")\n",
    "else:\n",
    "    print(\"el numero no es primo\")"
   ]
  },
  {
   "cell_type": "markdown",
   "metadata": {},
   "source": [
    "Ejercicio 5\n",
    "\n",
    "Utilizando diferentes clases en python, crea una calculadora con los operadores básicos de suma, resta, multiplicación, división, y exponente."
   ]
  },
  {
   "cell_type": "code",
   "execution_count": 2,
   "metadata": {},
   "outputs": [
    {
     "name": "stdout",
     "output_type": "stream",
     "text": [
      "\n",
      "    ¿Qué quieres hacer?\n",
      "    1) Sumar los dos números\n",
      "    2) Restar los dos números\n",
      "    3) Multiplicar los dos números\n",
      "    4) Dividir los dos numeros\n",
      "    5) El exponente de los dos numeros \n",
      "    6) Salir\n",
      "    \n",
      "Introduce una opcion: 6\n"
     ]
    }
   ],
   "source": [
    "#ejercicio 5 me ayudo a realizar el ejercicio mi compañero Mario Vladimir\n",
    "class calculadora:\n",
    "    def sumar(self, x, y):\n",
    "        print ('El resultado de sumar  ' +str(x) + ' y '+str(y)+ ' es: '+str((x+y)) )\n",
    "    def restar(self, x, y):\n",
    "        print ('El resultado de restar  '+str(x) + ' y '+str(y)+ ' es: '+str((x-y)) )\n",
    "    def multiplicar(self, x, y):\n",
    "        print ('El resultado de multiplicar  '+str(x) + ' y '+str(y)+ ' es: '+str((x*y)) )\n",
    "    def dividir(self, x, y):\n",
    "        print ('El resultado de dividir  '+str(x) + ' y '+str(y)+ ' es: '+str((x/y)) )\n",
    "    def exponente(self, x, y):\n",
    "        print ('El resultado de elevar a potencia  '+str(x) + ' y' +str(y)+ ' es: '+str((x**y)) )\n",
    "\n",
    "c= calculadora()\n",
    "def menu():\n",
    "    print(\"\"\"\n",
    "    ¿Qué quieres hacer?\n",
    "    1) Sumar los dos números\n",
    "    2) Restar los dos números\n",
    "    3) Multiplicar los dos números\n",
    "    4) Dividir los dos numeros\n",
    "    5) El exponente de los dos numeros \n",
    "    6) Salir\n",
    "    \"\"\")\n",
    "    return int(input('Introduce una opcion: '))\n",
    "\n",
    "while(True):\n",
    "    opcion= menu()\n",
    "    if(opcion==6):\n",
    "        break\n",
    "    else:\n",
    "        num1= int(input('Ingresa el primer nuemero: '))\n",
    "        num2= int(input('Ingresa el segundo numero: '))\n",
    "        \n",
    "        if(opcion==1):\n",
    "            c.sumar(num1, num2)\n",
    "        elif(opcion==2):\n",
    "            c.restar(num1, num2)\n",
    "        elif(opcion==3):\n",
    "            c.multiplicar(num1, num2)\n",
    "        elif(opcion==4):\n",
    "            c.dividir(num1, num2)\n",
    "        elif(opcion==5):\n",
    "            c.exponente(num1, num2)\n",
    "        else:\n",
    "            print('Opcion incorrecta')\n"
   ]
  },
  {
   "cell_type": "markdown",
   "metadata": {},
   "source": [
    "Tuplas\n",
    "\n",
    "+Crear una variable flotante, integer, boleana y compleja e imprimir el tipo de variable que es.\n",
    "+Crear una tupla con valores enteros imprimir el primer y ultimo valor.\n",
    "+Añadir 3 valores de string a la tupla.\n",
    "+Verificar si una variable existe dentro de la tupla."
   ]
  },
  {
   "cell_type": "code",
   "execution_count": 7,
   "metadata": {},
   "outputs": [
    {
     "name": "stdout",
     "output_type": "stream",
     "text": [
      "<class 'complex'>\n",
      "<class 'float'>\n",
      "<class 'int'>\n",
      "<class 'bool'>\n",
      "1\n",
      "10\n"
     ]
    },
    {
     "data": {
      "text/plain": [
       "False"
      ]
     },
     "execution_count": 7,
     "metadata": {},
     "output_type": "execute_result"
    }
   ],
   "source": [
    "#ejercicio 1 extra\n",
    "import cmath\n",
    "\n",
    "a=23\n",
    "b=16\n",
    "C=complex(a,b)\n",
    "Fl=3.12  #Crear una variable flotante, integer, boleana y compleja e imprimir el tipo de variable que es.\n",
    "En=3\n",
    "V=True\n",
    "print(type(C))\n",
    "print(type(Fl))\n",
    "print(type(En))\n",
    "print(type(V))\n",
    "\n",
    "# dupla punto 2 Crear una tupla con valores enteros imprimir el primer y ultimo valor.\n",
    "Mt=(1,2,3,4,5,6,7,8,9,10)\n",
    "aux=len(Mt)\n",
    "for i in range (0,aux):\n",
    "     if i==0 or i==len (Mt)-1:\n",
    "        print (Mt[i])\n",
    "\n",
    "# Añadir 3 valores de string a la tupla.\n",
    "Mt + (\"clase\", \"de\", \"mineria\")\n",
    "\n",
    "#Verificar si una variable existe dentro de la tupla.\n",
    "\n",
    "\"hola\" in Mt"
   ]
  },
  {
   "cell_type": "markdown",
   "metadata": {},
   "source": [
    "Listas\n",
    "\n",
    "+Crear una lista con 40 elementos aleatorios enteros.\n",
    "+Con una funcion (def) crear dos listas nuevas a partir de la lista creada por numeros aleatorios, en la cual en una esten los +elementos pares, y en la otra los elementos impares.\n",
    "+Crear dos variables con la longitud de ambas listas nuevas e imprimir las variables.\n",
    "+Ordenar los elementos de la lista par de mayor a menor, y los de la lista impar de menor a mayor.\n",
    "+Utilizar al menos cuatro de las funciones de listas en python en la lista original de 40 elementos."
   ]
  },
  {
   "cell_type": "code",
   "execution_count": 1,
   "metadata": {},
   "outputs": [
    {
     "name": "stdout",
     "output_type": "stream",
     "text": [
      "[51, 48, 17, 88, 32, 54, 34, 9, 49, 31, 18, 86, 10, 86, 50, 94, 58, 40, 18, 91, 48, 9, 95, 63, 20, 92, 56, 35, 93, 41, 28, 100, 60, 17, 95, 13, 21, 92, 1, 3]\n",
      "Números pares:  [48, 88, 32, 54, 34, 18, 86, 10, 86, 50, 94, 58, 40, 18, 48, 20, 92, 56, 28, 100, 60, 92]\n",
      "Números impares:  [51, 17, 9, 49, 31, 91, 9, 95, 63, 35, 93, 41, 17, 95, 13, 21, 1, 3]\n",
      "Cantidad de números pares:  22\n",
      "Cantidad de números impares:  18\n",
      "[100, 94, 92, 92, 88, 86, 86, 60, 58, 56, 54, 50, 48, 48, 40, 34, 32, 28, 20, 18, 18, 10]\n",
      "[1, 3, 9, 9, 13, 17, 17, 21, 31, 35, 41, 49, 51, 63, 91, 93, 95, 95]\n",
      "[101, 51, 48, 17, 88, 32, 54, 34, 9, 49, 31, 18, 86, 10, 86, 50, 94, 58, 40, 18, 91, 48, 9, 95, 63, 20, 92, 56, 35, 93, 41, 28, 100, 60, 17, 95, 13, 21, 92, 1, 3]\n",
      "[101, 51, 48, 17, 88, 32, 54, 34, 9, 49, 31, 18, 86, 10, 86, 50, 94, 58, 40, 18, 91, 48, 9, 95, 63, 20, 92, 56, 35, 93, 41, 28, 100, 60, 17, 95, 13, 21, 92, 1, 3, 23, 74, 97]\n",
      "[97, 74, 23, 3, 1, 92, 21, 13, 95, 17, 60, 100, 28, 41, 93, 35, 56, 92, 20, 63, 95, 9, 48, 91, 18, 40, 58, 94, 50, 86, 10, 86, 18, 31, 49, 9, 34, 54, 32, 88, 17, 48, 51, 101]\n",
      "[97, 74, 'victor', 23, 3, 1, 92, 21, 13, 95, 17, 60, 100, 28, 41, 93, 35, 56, 92, 20, 63, 95, 9, 48, 91, 18, 40, 58, 94, 50, 86, 10, 86, 18, 31, 49, 9, 34, 54, 32, 88, 17, 48, 51, 101]\n"
     ]
    }
   ],
   "source": [
    "#Crear una lista con 40 elementos aleatorios enteros.\n",
    "import random\n",
    "\n",
    "lis= []\n",
    "\n",
    "for i in range (40):\n",
    "    r_num=random.randint(0,100) #se van a generar numeros aleatorios entre 0 y 100\n",
    "    lis.append(r_num)\n",
    "    \n",
    "print (lis)\n",
    "\n",
    "#Con una funcion (def) crear dos listas nuevas a partir de la lista creada por numeros aleatorios,\n",
    "#en la cual en una esten los elementos pares, y en la otra los elementos impares.\n",
    "\n",
    "def par_imp(lis):\n",
    "    par=[]\n",
    "    impar=[]\n",
    "    for i in range(len(lis)):\n",
    "        if lis[i]%2==0:\n",
    "            par.append(lis[i])\n",
    "        else:\n",
    "            impar.append(lis[i])\n",
    "    return par,impar\n",
    "\n",
    "par,impar=par_imp(lis)\n",
    "print(\"Números pares: \",par)\n",
    "print(\"Números impares: \",impar)\n",
    "\n",
    "# Crear dos variables con la longitud de ambas listas nuevas e imprimir las variables.\n",
    "p=len(par)\n",
    "i=len(impar)\n",
    "print(\"Cantidad de números pares: \",p)\n",
    "print(\"Cantidad de números impares: \",i)\n",
    "\n",
    "#Ordenar los elementos de la lista par de mayor a menor, y los de la lista impar de menor a mayor.\n",
    "#lista par\n",
    "\n",
    "par.sort(reverse=True)\n",
    "print (par)\n",
    "\n",
    "#lista impar\n",
    "\n",
    "impar.sort()\n",
    "print (impar)\n",
    "\n",
    "#Utilizar al menos cuatro de las funciones de listas en python en la lista original de 40 elementos.\n",
    "#funcion 1\n",
    "\n",
    "lis.insert(0,101)\n",
    "print (lis)\n",
    "\n",
    "#funcion 2\n",
    "\n",
    "lista=[23, 74, 97]\n",
    "lis.extend(lista)\n",
    "print(lis)\n",
    "\n",
    "#funcion 3\n",
    "\n",
    "\n",
    "lis.reverse()\n",
    "print (lis)\n",
    "\n",
    "#funcion 4\n",
    "\n",
    "lis.insert (2, \"victor\")\n",
    "print (lis)\n"
   ]
  },
  {
   "cell_type": "markdown",
   "metadata": {},
   "source": [
    "Diccionarios\n",
    "\n",
    "+Crear un diccionario de 6 personas que conozcas con su primer nombre y su edad.\n",
    "+Crear una lista con los valores de la edad y reacomodar la lista de menor a mayor valor.\n",
    "+Usando el diccionario y un loop, imprimir solo los nombres.\n",
    "+Añadir dos personas nuevas a tu diccionario, incluyendo edad."
   ]
  },
  {
   "cell_type": "code",
   "execution_count": 22,
   "metadata": {},
   "outputs": [
    {
     "name": "stdout",
     "output_type": "stream",
     "text": [
      "{'oscar': 22, 'karla': 21, 'Cynthia': 24, 'victor': 22, 'carlos': 23, 'Lety': 21}\n",
      "[21, 21, 22, 22, 23, 24]\n",
      "oscar\n",
      "karla\n",
      "Cynthia\n",
      "victor\n",
      "carlos\n",
      "Lety\n"
     ]
    },
    {
     "data": {
      "text/plain": [
       "{'oscar': 22,\n",
       " 'karla': 21,\n",
       " 'Cynthia': 24,\n",
       " 'victor': 22,\n",
       " 'carlos': 23,\n",
       " 'Lety': 21,\n",
       " 'adriana': 38,\n",
       " 'marco': 40}"
      ]
     },
     "execution_count": 22,
     "metadata": {},
     "output_type": "execute_result"
    }
   ],
   "source": [
    "#diccionario\n",
    "#Crear un diccionario de 6 personas que conozcas con su primer nombre y su edad.\n",
    "regis={\"oscar\":22,\"karla\":21,\"Cynthia\":24,\"victor\":22,\"carlos\":23,\"Lety\":21}\n",
    "print (regis)\n",
    "\n",
    "#Crear una lista con los valores de la edad y reacomodar la lista de menor a mayor valor.\n",
    "\n",
    "años=[i for i in dic.values()]\n",
    "años.sort()\n",
    "print (años)\n",
    "\n",
    "#Usando el diccionario y un loop, imprimir solo los nombres.\n",
    "\n",
    "for i in regis:\n",
    "    print(i)\n",
    "    \n",
    "#Añadir dos personas nuevas a tu diccionario, incluyendo edad.\n",
    "\n",
    "dic[\"adriana\"]=38\n",
    "dic[\"marco\"]=40\n",
    "dic"
   ]
  },
  {
   "cell_type": "markdown",
   "metadata": {},
   "source": [
    "Sets\n",
    "\n",
    "+Crea un set con 100 numeros aleatorios enteros del 1 al 25.\n",
    "+Comprueba la longitud de tu set.\n",
    "+Crea una lista de 5 numeros aleatorios del 1 al 10 y comprueba si cada valor aparece en el set inicial."
   ]
  },
  {
   "cell_type": "code",
   "execution_count": 47,
   "metadata": {},
   "outputs": [
    {
     "name": "stdout",
     "output_type": "stream",
     "text": [
      "{1, 2, 3, 4, 5, 6, 7, 8, 9, 10, 11, 12, 13, 14, 15, 16, 17, 18, 19, 20, 21, 22, 23, 24, 25}\n",
      "la longitud el 25\n",
      "[1, 3, 1, 9, 2]\n",
      "1 esta en el set  True\n",
      "3 esta en el set  True\n",
      "1 esta en el set  True\n",
      "9 esta en el set  True\n",
      "2 esta en el set  True\n"
     ]
    }
   ],
   "source": [
    "#set \n",
    "#Crea un set con 100 numeros aleatorios enteros del 1 al 25.\n",
    "import random as r\n",
    "\n",
    "conjunto={r.randint(1,25) for i in range(100)}\n",
    "print (conjunto)\n",
    "\n",
    "#Comprueba la longitud de tu set.\n",
    "l= len(conjunto)\n",
    "print (\"la longitud el\", l)\n",
    "\n",
    "#Crea una lista de 5 numeros aleatorios del 1 al 10 y comprueba si cada valor aparece en el set inicial.\n",
    "\n",
    "lista2=[r.randint(1,10) for i in range(5)]\n",
    "print (lista2)\n",
    "\n",
    "for i in range(len(lista2)):\n",
    "    print(lista2[i],\"esta en el set \",lista2[i] in s)"
   ]
  },
  {
   "cell_type": "code",
   "execution_count": null,
   "metadata": {},
   "outputs": [],
   "source": [
    "\n"
   ]
  },
  {
   "cell_type": "code",
   "execution_count": null,
   "metadata": {},
   "outputs": [],
   "source": []
  }
 ],
 "metadata": {
  "kernelspec": {
   "display_name": "Python 3",
   "language": "python",
   "name": "python3"
  },
  "language_info": {
   "codemirror_mode": {
    "name": "ipython",
    "version": 3
   },
   "file_extension": ".py",
   "mimetype": "text/x-python",
   "name": "python",
   "nbconvert_exporter": "python",
   "pygments_lexer": "ipython3",
   "version": "3.8.5"
  }
 },
 "nbformat": 4,
 "nbformat_minor": 4
}
